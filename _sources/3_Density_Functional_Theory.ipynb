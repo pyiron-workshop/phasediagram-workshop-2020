{
 "cells": [
  {
   "cell_type": "markdown",
   "metadata": {},
   "source": [
    "# Welcome to the Workshop: Software Tools from Atomistics to Phase Diagrams \n",
    "https://pyiron.org - https://www.mpie.de - https://workshop.materialsgenomefoundation.org\n",
    "* Richard Otis (Materials Genome Foundation)\n",
    "* **Jan Janssen**, Tilmann Hickel, Jörg Neugebauer (Max-Planck-Institut für Eisenforschung)\n",
    "* Brandon Bocklund and Zi-Kui Liu (Pennsylvania State University)"
   ]
  },
  {
   "cell_type": "markdown",
   "metadata": {},
   "source": [
    "# Day 1 - atomistic simulation \n",
    "12:30-13:00 Interactive: **Density functional theory with pyiron**\n",
    "\n",
    "The scope of this first exercise is to become familar with:\n",
    "* Density functional theory calculation, \n",
    "* Calculate the equilibrium lattice constant \n",
    "* Compare the results to interatomic potentials."
   ]
  },
  {
   "cell_type": "markdown",
   "metadata": {},
   "source": [
    "## Reminder\n",
    "In the first session we learned how to create a pyiron project object and then use this pyiron project object to create atomistic structure objects. "
   ]
  },
  {
   "cell_type": "code",
   "execution_count": null,
   "metadata": {},
   "outputs": [],
   "source": [
    "# Import the Project object\n",
    "from pyiron import ____\n",
    "\n",
    "# Create a Project object instance for a project named atomistics\n",
    "pr = ____(\"simulations\")\n",
    "\n",
    "# Create a cubic aluminum fcc structure\n",
    "al_fcc = pr.create_ase_bulk(____, _____=True)\n",
    "\n",
    "# Confirm the final structure has 4 atoms by calculating the length of the structure object\n",
    "____(al_fcc_repeated) == 4"
   ]
  },
  {
   "cell_type": "markdown",
   "metadata": {},
   "source": [
    "# Density Functional Theory \n",
    "To provide a brief introduction to density functional theory (DFT) we calculate the equilibrium lattice constant for a cubic fcc aluminium structure. Besides the pseudo potential which defines the electron electron interaction, the DFT precision is dominated by the convergence parameters, namely the plane wave energy cutoff and the kpoint mesh. Both can be set in pyiron using the corresponding properties `encut` and `kpoint_mesh`.  "
   ]
  },
  {
   "cell_type": "code",
   "execution_count": null,
   "metadata": {},
   "outputs": [],
   "source": [
    "# Create a DFT job with the S/PHI/nX quantum engine named spx\n",
    "job_dft_template = pr.create_job(\n",
    "    job_type=pr.job_type.Sphinx,\n",
    "    job_name=________\n",
    ")\n",
    "\n",
    "# Print the default DFT convergence parameters energy cutoff\n",
    "print(\n",
    "    job_dft_template.encut, \n",
    "    job_dft_template.kpoint_mesh\n",
    ")\n",
    "\n",
    "# Increase the energy cutoff to 400eV and increase the kpoint mesh to 5x5x5\n",
    "job_dft_template.set_encut(_______)\n",
    "job_dft_template.set_kpoints([__, __, __])\n",
    "\n",
    "# Again we enable the run_mode non_modal to execute the calculation in the background\n",
    "job_dft_template.server.run_mode.non_modal = ______"
   ]
  },
  {
   "cell_type": "markdown",
   "metadata": {},
   "source": [
    "## Energy Volume Curve \n",
    "The discretisation of the plane waves on the fourier mesh and the kpoint mesh in the brillouin zone cause fluctuations in the energy surface. Therefore a minimization like we used it for the interatomic potentials in the previous section is insufficient. Instead we calculate the energy for various volumes around the equlibrium volume and then determine the equilibrium volume by interpolating the minimum between these volumes."
   ]
  },
  {
   "cell_type": "code",
   "execution_count": null,
   "metadata": {},
   "outputs": [],
   "source": [
    "# We import the numerical library numpy\n",
    "import numpy as np\n",
    "\n",
    "# We create 7 strains ranging from -5% (0.95) to +5% (1.05) \n",
    "for strain in np.linspace(_____, ______, _____):\n",
    "    # We include the strain in the job name to identify the individual jobs \n",
    "    job_strain = job_dft_template.copy_to(\n",
    "        new_job_name='spx_' + str(strain).replace('.', '_'), \n",
    "        new_database_entry=False\n",
    "    )\n",
    "    \n",
    "    # Each job we assign a copy of the cubic fcc aluminium supercell\n",
    "    job_strain.structure = _______.copy()\n",
    "    \n",
    "    # Afterwards we rescale the volume of the supercell with the selected strain\n",
    "    job_strain.structure.set_cell(cell=al_fcc.cell * _______ ** (1/3), scale_atoms=True)\n",
    "    \n",
    "    # Finally we submit the calculation for execution \n",
    "    job_strain.run()"
   ]
  },
  {
   "cell_type": "code",
   "execution_count": null,
   "metadata": {},
   "outputs": [],
   "source": [
    "# While the calculations are executed in the background we check the status of the calculation in the job_table\n",
    "pr.job_table()"
   ]
  },
  {
   "cell_type": "code",
   "execution_count": null,
   "metadata": {},
   "outputs": [],
   "source": [
    "# We wait until all calculations are finshed \n",
    "pr.wait_for_jobs()"
   ]
  },
  {
   "cell_type": "markdown",
   "metadata": {},
   "source": [
    "## Reminder\n",
    "We again use the pyiron table object to collect the simulation results and aggregate them in a pandas DataFrame. "
   ]
  },
  {
   "cell_type": "code",
   "execution_count": null,
   "metadata": {},
   "outputs": [],
   "source": [
    "# Create a pyiron table object\n",
    "table = pr.create_table()\n",
    "\n",
    "# Implement a filter function, which returns true for finished jobs and jobs with \"spx_\" in the job_name\n",
    "def filter_jobs(job):\n",
    "    return job.status == _______ and _____ in job.job_name"
   ]
  },
  {
   "cell_type": "code",
   "execution_count": null,
   "metadata": {},
   "outputs": [],
   "source": [
    "# Many commonly used functions are already available using tab completion\n",
    "# We select the get_volume function and the get_energy_tot function\n",
    "table.add.________\n",
    "table.add.get_energy_tot\n",
    "\n",
    "# Assigne the filter function defined above\n",
    "table.filter_function = _____\n",
    "\n",
    "# Execute the pyiron table just like a pyiron job object\n",
    "table._____\n",
    "\n",
    "# Return a pandas DataFrame with the collected results \n",
    "df_res = table.get_dataframe()\n",
    "df_res"
   ]
  },
  {
   "cell_type": "markdown",
   "metadata": {},
   "source": [
    "## Visualise the energy volume curve \n",
    "We again use the matplotlib library to visualise the calculated energy volume curve and calculate the equilibrium volume by fitting a second order polynomial and calculate the roots of the derivative. "
   ]
  },
  {
   "cell_type": "code",
   "execution_count": null,
   "metadata": {},
   "outputs": [],
   "source": [
    "# Import the matplotlib library for plotting. As we are using jupyter notebooks \n",
    "# for combining code, documentation and visualisation, we also need the jupyter magic for matplotlib. \n",
    "# https://ipython.readthedocs.io/en/stable/interactive/magics.html#magic-matplotlib\n",
    "%matplotlib inline \n",
    "import matplotlib.pyplot as plt\n",
    "\n",
    "# Plot the volume and the total energy from the DataFrame with the collected results\n",
    "plt.plot(_____.volume, _____.energy_tot)\n",
    "\n",
    "# Fit a second order polynomial to the energy volume curve \n",
    "fit = np.polyfit(_____.volume, _____.energy_tot, ___)\n",
    "\n",
    "vol_eq = np.polyder(fit).roots[0]\n",
    "plt.axvline(vol_eq, linestyle=\"--\", color=\"red\")\n",
    "plt.xlabel(\"Volume\")\n",
    "plt.ylabel(\"total Energy\");"
   ]
  },
  {
   "cell_type": "markdown",
   "metadata": {},
   "source": [
    "## pyiron Master Jobs \n",
    "While managing calculations with with for loops and aggregating calculation results in pandas DataFrame is already a very scaleable concept, we have implemented master jobs which can execute multiple calculations in series or in parallel to automate common simulation tasks. The calculation of the energy volume curve is one of those examples. "
   ]
  },
  {
   "cell_type": "code",
   "execution_count": null,
   "metadata": {},
   "outputs": [],
   "source": [
    "# Create a DFT job with the S/PHI/nX quantum engine named \"spxjob\"\n",
    "job_master_template = pr.create_job(\n",
    "    job_type=pr.job_type.Sphinx,\n",
    "    job_name=______\n",
    ")\n",
    "\n",
    "# Assign the cubic fcc aluminium structure to the template job \n",
    "job_master_template.structure = _____\n",
    "\n",
    "# Again we enable the run_mode non_modal to execute the calculation in the background\n",
    "job_master_template.server.run_mode.non_modal = ______\n",
    "\n",
    "# Use the job object to create the Murnaghan object, named \"murn\" \n",
    "murn = job_master_template.create_job(\n",
    "    job_type=pr.job_type.Murnaghan, \n",
    "    job_name=_______\n",
    ")\n",
    "\n",
    "# Set the number of cores of the Murnaghan object to 2 so it can execute two DFT calculations at a time \n",
    "murn.server.cores = _____\n",
    "\n",
    "# Execute the Murnaghan object \n",
    "murn.run()"
   ]
  },
  {
   "cell_type": "code",
   "execution_count": null,
   "metadata": {},
   "outputs": [],
   "source": [
    "# While the calculations are executed in the background we check the status of the calculation in the job_table\n",
    "pr.job_table()"
   ]
  },
  {
   "cell_type": "code",
   "execution_count": null,
   "metadata": {},
   "outputs": [],
   "source": [
    "# We again wait until all calculations are finshed \n",
    "pr.wait_for_jobs()"
   ]
  },
  {
   "cell_type": "code",
   "execution_count": null,
   "metadata": {},
   "outputs": [],
   "source": [
    "# Finally we can use the internal functionality of the master job to visualise the energy volume curve\n",
    "murn.plot()"
   ]
  },
  {
   "cell_type": "markdown",
   "metadata": {},
   "source": [
    "## Summary \n",
    "In this section you learned: \n",
    "* how to calculate equilibrium bulk material properties using density functional theory.\n",
    "* how the finite plane wave energy cutoff and the finite kpoint mesh limit the precision of DFT calculation. \n",
    "* and how to use master jobs in pyiron to automate common tasks like calculating energy volume curves. \n",
    "\n",
    "Suggestions: \n",
    "* To learn more about convergence you can plot the convergence of an individual energy over the change in plane wave energy cutoff or kpoint mesh. \n",
    "* To visualise the discretisation of the energy volume curve you can calculate the energy volume curve at a small volume range of +/- 1% for a low kpoint mesh of 3x3x3 and an energy cutoff of 300eV with 21 points.\n",
    "* To validate the interatomic potentials from the previous section we can calculate energy volume curves for those and compare the energy differences to the DFT results. "
   ]
  },
  {
   "cell_type": "code",
   "execution_count": null,
   "metadata": {},
   "outputs": [],
   "source": []
  }
 ],
 "metadata": {
  "kernelspec": {
   "display_name": "Python 3",
   "language": "python",
   "name": "python3"
  },
  "language_info": {
   "codemirror_mode": {
    "name": "ipython",
    "version": 3
   },
   "file_extension": ".py",
   "mimetype": "text/x-python",
   "name": "python",
   "nbconvert_exporter": "python",
   "pygments_lexer": "ipython3",
   "version": "3.8.6"
  }
 },
 "nbformat": 4,
 "nbformat_minor": 4
}
